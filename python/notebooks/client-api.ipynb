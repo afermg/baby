{
 "cells": [
  {
   "cell_type": "code",
   "execution_count": 1,
   "id": "f8197275-c6ff-4c3f-b814-a369a9c83203",
   "metadata": {},
   "outputs": [],
   "source": [
    "import requests\n",
    "baby_url = 'http://0.0.0.0:5101' # URL to reach baby-phone"
   ]
  },
  {
   "cell_type": "markdown",
   "id": "75f2c726-9df9-4f32-b117-bf218c234111",
   "metadata": {},
   "source": [
    "## Check version of the BABY server"
   ]
  },
  {
   "cell_type": "code",
   "execution_count": 2,
   "id": "10a5e2c2-909f-44a2-9eef-f9788a827f6d",
   "metadata": {},
   "outputs": [
    {
     "data": {
      "text/plain": [
       "{'baby': 'v0.30.7'}"
      ]
     },
     "execution_count": 2,
     "metadata": {},
     "output_type": "execute_result"
    }
   ],
   "source": [
    "r = requests.get(baby_url)\n",
    "r.json()"
   ]
  },
  {
   "cell_type": "markdown",
   "id": "3c39be17-0f35-4527-9d65-29a2266e615c",
   "metadata": {},
   "source": [
    "## Check which models are available"
   ]
  },
  {
   "cell_type": "markdown",
   "id": "a98f3ba0-dea2-4e8c-a702-f97d6df4f70d",
   "metadata": {},
   "source": [
    "### Summary"
   ]
  },
  {
   "cell_type": "code",
   "execution_count": 3,
   "id": "c11e2d6d-29f2-4c3e-8ad6-0717e15eb9a2",
   "metadata": {},
   "outputs": [
    {
     "data": {
      "text/plain": [
       "['ecoli-mothermachine-phase-EMCCD-100x-1z',\n",
       " 'yeast-alcatras-brightfield-sCMOS-60x-5z',\n",
       " 'yeast-alcatras-brightfield-EMCCD-60x-1z',\n",
       " 'ecoli-mothermachine-phase-sCMOS-100x-1z',\n",
       " 'yeast-alcatras-brightfield-sCMOS-60x-1z',\n",
       " 'yeast-alcatras-brightfield-EMCCD-60x-5z',\n",
       " 'yeast-alcatras-brightfield-sCMOS-60x-3z',\n",
       " 'yeast-microcol-brightfield-sCMOS-100x-1z',\n",
       " 'yeast-alcatras-brightfield-EMCCD-60x-3z',\n",
       " 'example-modelset-yeast-alcatras-brightfield-EMCCD-60x-5z']"
      ]
     },
     "execution_count": 3,
     "metadata": {},
     "output_type": "execute_result"
    }
   ],
   "source": [
    "r = requests.get(baby_url + '/models')\n",
    "r.json()"
   ]
  },
  {
   "cell_type": "markdown",
   "id": "31f9e3a4-0ca3-4c7b-93ae-48e3876974c1",
   "metadata": {},
   "source": [
    "### Including additional meta data"
   ]
  },
  {
   "cell_type": "code",
   "execution_count": 4,
   "id": "14d94982-2b52-4255-ae2b-0cb3f2847650",
   "metadata": {},
   "outputs": [
    {
     "data": {
      "text/plain": [
       "{'ecoli-mothermachine-phase-EMCCD-100x-1z': {'species': 'ecoli',\n",
       "  'device': 'mothermachine',\n",
       "  'channel': 'phase',\n",
       "  'camera': 'EMCCD',\n",
       "  'optical_zoom': 100,\n",
       "  'z_sections': 1,\n",
       "  'pixel_size': 0.08},\n",
       " 'yeast-alcatras-brightfield-sCMOS-60x-5z': {'species': 'yeast',\n",
       "  'device': 'alcatras',\n",
       "  'channel': 'brightfield',\n",
       "  'camera': 'sCMOS',\n",
       "  'optical_zoom': 60,\n",
       "  'z_sections': 5,\n",
       "  'pixel_size': 0.182},\n",
       " 'yeast-alcatras-brightfield-EMCCD-60x-1z': {'species': 'yeast',\n",
       "  'device': 'alcatras',\n",
       "  'channel': 'brightfield',\n",
       "  'camera': 'EMCCD',\n",
       "  'optical_zoom': 60,\n",
       "  'z_sections': 1,\n",
       "  'pixel_size': 0.263},\n",
       " 'ecoli-mothermachine-phase-sCMOS-100x-1z': {'species': 'ecoli',\n",
       "  'device': 'mothermachine',\n",
       "  'channel': 'phase',\n",
       "  'camera': 'sCMOS',\n",
       "  'optical_zoom': 100,\n",
       "  'z_sections': 1,\n",
       "  'pixel_size': 0.065},\n",
       " 'yeast-alcatras-brightfield-sCMOS-60x-1z': {'species': 'yeast',\n",
       "  'device': 'alcatras',\n",
       "  'channel': 'brightfield',\n",
       "  'camera': 'sCMOS',\n",
       "  'optical_zoom': 60,\n",
       "  'z_sections': 1,\n",
       "  'pixel_size': 0.182},\n",
       " 'yeast-alcatras-brightfield-EMCCD-60x-5z': {'species': 'yeast',\n",
       "  'device': 'alcatras',\n",
       "  'channel': 'brightfield',\n",
       "  'camera': 'EMCCD',\n",
       "  'optical_zoom': 60,\n",
       "  'z_sections': 5,\n",
       "  'pixel_size': 0.263},\n",
       " 'yeast-alcatras-brightfield-sCMOS-60x-3z': {'species': 'yeast',\n",
       "  'device': 'alcatras',\n",
       "  'channel': 'brightfield',\n",
       "  'camera': 'sCMOS',\n",
       "  'optical_zoom': 60,\n",
       "  'z_sections': 3,\n",
       "  'pixel_size': 0.182},\n",
       " 'yeast-microcol-brightfield-sCMOS-100x-1z': {'species': 'yeast',\n",
       "  'device': 'microcol',\n",
       "  'channel': 'brightfield',\n",
       "  'camera': 'sCMOS',\n",
       "  'optical_zoom': 100,\n",
       "  'z_sections': 1,\n",
       "  'pixel_size': 0.118},\n",
       " 'yeast-alcatras-brightfield-EMCCD-60x-3z': {'species': 'yeast',\n",
       "  'device': 'alcatras',\n",
       "  'channel': 'brightfield',\n",
       "  'camera': 'EMCCD',\n",
       "  'optical_zoom': 60,\n",
       "  'z_sections': 3,\n",
       "  'pixel_size': 0.263},\n",
       " 'example-modelset-yeast-alcatras-brightfield-EMCCD-60x-5z': {'species': 'yeast',\n",
       "  'device': 'alcatras',\n",
       "  'channel': 'brightfield',\n",
       "  'camera': 'sCMOS',\n",
       "  'optical_zoom': 60,\n",
       "  'z_sections': 5,\n",
       "  'pixel_size': 0.182}}"
      ]
     },
     "execution_count": 4,
     "metadata": {},
     "output_type": "execute_result"
    }
   ],
   "source": [
    "r = requests.get(baby_url + '/models?meta=true')\n",
    "r.json()"
   ]
  },
  {
   "cell_type": "markdown",
   "id": "9f380b35-0171-40c0-aa0d-44e86feba135",
   "metadata": {},
   "source": [
    "## Start a new session"
   ]
  },
  {
   "cell_type": "code",
   "execution_count": 5,
   "id": "23ac657e-9c08-4934-965f-4f80643a2b3c",
   "metadata": {},
   "outputs": [
    {
     "data": {
      "text/plain": [
       "{'sessionid': 'd3bfb158-56df-40ce-b221-1af738c021f4'}"
      ]
     },
     "metadata": {},
     "output_type": "display_data"
    }
   ],
   "source": [
    "modelset = 'yeast-alcatras-brightfield-sCMOS-60x-1z'\n",
    "r = requests.get(f'{baby_url}/session/{modelset}')\n",
    "display(r.json())\n",
    "session_id = r.json()['sessionid']"
   ]
  },
  {
   "cell_type": "markdown",
   "id": "ee69c22c-609f-4f67-a920-3af198d0fe96",
   "metadata": {},
   "source": [
    "## List running sessions"
   ]
  },
  {
   "cell_type": "code",
   "execution_count": 6,
   "id": "5f23c521-bd0d-492d-8f96-31d7fafb1e52",
   "metadata": {},
   "outputs": [
    {
     "data": {
      "text/plain": [
       "[{'id': 'd3bfb158-56df-40ce-b221-1af738c021f4',\n",
       "  'model_name': 'yeast-alcatras-brightfield-sCMOS-60x-1z',\n",
       "  'runner': 'pending'}]"
      ]
     },
     "execution_count": 6,
     "metadata": {},
     "output_type": "execute_result"
    }
   ],
   "source": [
    "r = requests.get(baby_url + '/sessions')\n",
    "r.json()"
   ]
  },
  {
   "cell_type": "markdown",
   "id": "437ede55-7774-4fe8-9d07-8cad01069c6e",
   "metadata": {},
   "source": [
    "## Send an image to the server"
   ]
  },
  {
   "cell_type": "code",
   "execution_count": 7,
   "id": "3fab3527-c685-4b9b-a9f5-ce7bf66a15bb",
   "metadata": {},
   "outputs": [
    {
     "data": {
      "text/plain": [
       "{'status': 'processing 2 trap images'}"
      ]
     },
     "execution_count": 7,
     "metadata": {},
     "output_type": "execute_result"
    }
   ],
   "source": [
    "import numpy as np\n",
    "# Create suitable N x H x W x Z array\n",
    "# dtype must be either uint8 or uint16\n",
    "img = np.zeros((2, 120, 120, 1), dtype='uint8')\n",
    "# Initiate a multipart-encoded request\n",
    "r = requests.post(f'{baby_url}/segment?sessionid={session_id}',\n",
    "                  files=[\n",
    "                      ('dims', ('', str(list(img.shape)))),\n",
    "                      ('bitdepth', ('', '8')),\n",
    "                      ('img', ('', img.tobytes())),\n",
    "                  ])\n",
    "r.json()"
   ]
  },
  {
   "cell_type": "markdown",
   "id": "f9bd71e4-7d66-4841-9981-1d8cde2d7244",
   "metadata": {},
   "source": [
    "## Retrieve results after processing"
   ]
  },
  {
   "cell_type": "code",
   "execution_count": 8,
   "id": "5f0aea93-54c1-4a00-8c6b-183186b9e239",
   "metadata": {},
   "outputs": [
    {
     "data": {
      "text/plain": [
       "[{'centres': [],\n",
       "  'angles': [],\n",
       "  'radii': [],\n",
       "  'cell_label': [],\n",
       "  'ellipse_dims': []},\n",
       " {'centres': [],\n",
       "  'angles': [],\n",
       "  'radii': [],\n",
       "  'cell_label': [],\n",
       "  'ellipse_dims': []}]"
      ]
     },
     "execution_count": 8,
     "metadata": {},
     "output_type": "execute_result"
    }
   ],
   "source": [
    "r = requests.get(f'{baby_url}/segment?sessionid={session_id}')\n",
    "r.json()"
   ]
  }
 ],
 "metadata": {
  "kernelspec": {
   "display_name": "baby",
   "language": "python",
   "name": "baby"
  },
  "language_info": {
   "codemirror_mode": {
    "name": "ipython",
    "version": 3
   },
   "file_extension": ".py",
   "mimetype": "text/x-python",
   "name": "python",
   "nbconvert_exporter": "python",
   "pygments_lexer": "ipython3",
   "version": "3.10.13"
  }
 },
 "nbformat": 4,
 "nbformat_minor": 5
}
